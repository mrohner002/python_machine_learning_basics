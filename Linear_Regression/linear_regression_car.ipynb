{
 "cells": [
  {
   "cell_type": "code",
   "execution_count": 2,
   "metadata": {},
   "outputs": [
    {
     "name": "stdout",
     "output_type": "stream",
     "text": [
      "/workspaces/python_machine_learning_basics/Linear_Regression\n"
     ]
    }
   ],
   "source": [
    "# Libraries\n",
    "import os\n",
    "import numpy as np\n",
    "import pandas as pd\n",
    "import scipy.stats as stats\n",
    "import statsmodels.api as sm\n",
    "import matplotlib.pyplot as plt\n",
    "from sklearn import linear_model\n",
    "from sklearn.ensemble import GradientBoostingClassifier\n",
    "from sklearn.model_selection import train_test_split\n",
    "\n",
    "# Ignore warnings\n",
    "import warnings\n",
    "warnings.filterwarnings('ignore')\n",
    "\n",
    "# Show current working directory\n",
    "print(os.getcwd())"
   ]
  },
  {
   "cell_type": "code",
   "execution_count": 3,
   "metadata": {},
   "outputs": [
    {
     "name": "stdout",
     "output_type": "stream",
     "text": [
      "(3949, 15)\n"
     ]
    },
    {
     "data": {
      "text/html": [
       "<div>\n",
       "<style scoped>\n",
       "    .dataframe tbody tr th:only-of-type {\n",
       "        vertical-align: middle;\n",
       "    }\n",
       "\n",
       "    .dataframe tbody tr th {\n",
       "        vertical-align: top;\n",
       "    }\n",
       "\n",
       "    .dataframe thead th {\n",
       "        text-align: right;\n",
       "    }\n",
       "</style>\n",
       "<table border=\"1\" class=\"dataframe\">\n",
       "  <thead>\n",
       "    <tr style=\"text-align: right;\">\n",
       "      <th></th>\n",
       "      <th>Offer_Id</th>\n",
       "      <th>Type</th>\n",
       "      <th>Fuel_Type</th>\n",
       "      <th>Transmission</th>\n",
       "      <th>Dealer_PLZ</th>\n",
       "      <th>Dealer_City</th>\n",
       "      <th>Dealer_Street_House_Nr</th>\n",
       "      <th>Init_Regist_MY</th>\n",
       "      <th>Init_Regist_Month</th>\n",
       "      <th>Init_Regist_Year</th>\n",
       "      <th>Init_Regist_Dt</th>\n",
       "      <th>Make</th>\n",
       "      <th>Mileage</th>\n",
       "      <th>HP</th>\n",
       "      <th>Price</th>\n",
       "    </tr>\n",
       "  </thead>\n",
       "  <tbody>\n",
       "    <tr>\n",
       "      <th>0</th>\n",
       "      <td>7324420</td>\n",
       "      <td>AUDI A5 Sportback 3.0 TDI quattro S-tronic (Li...</td>\n",
       "      <td>Diesel</td>\n",
       "      <td>Automatisiertes Schaltgetriebe</td>\n",
       "      <td>8488</td>\n",
       "      <td>Turbenthal</td>\n",
       "      <td>Mettlenstrasse 3</td>\n",
       "      <td>10.2014</td>\n",
       "      <td>10.0</td>\n",
       "      <td>2014.0</td>\n",
       "      <td>2014-10</td>\n",
       "      <td>AUDI</td>\n",
       "      <td>75000</td>\n",
       "      <td>245</td>\n",
       "      <td>22500</td>\n",
       "    </tr>\n",
       "    <tr>\n",
       "      <th>1</th>\n",
       "      <td>7512768</td>\n",
       "      <td>MERCEDES-BENZ SLK 200 7G-Tronic (Cabriolet)</td>\n",
       "      <td>Benzin</td>\n",
       "      <td>Automat sequentiell</td>\n",
       "      <td>3186</td>\n",
       "      <td>Düdingen</td>\n",
       "      <td>Brugerastrasse 60</td>\n",
       "      <td>6.2013</td>\n",
       "      <td>6.0</td>\n",
       "      <td>2013.0</td>\n",
       "      <td>2013-06</td>\n",
       "      <td>MERCEDES-BENZ</td>\n",
       "      <td>46655</td>\n",
       "      <td>184</td>\n",
       "      <td>23749</td>\n",
       "    </tr>\n",
       "    <tr>\n",
       "      <th>2</th>\n",
       "      <td>7512034</td>\n",
       "      <td>MERCEDES-BENZ C 350 Avantgarde 4Matic 7G-Troni...</td>\n",
       "      <td>Benzin</td>\n",
       "      <td>Automat sequentiell</td>\n",
       "      <td>1262</td>\n",
       "      <td>Eysins</td>\n",
       "      <td>1262 Eysins</td>\n",
       "      <td>6.2011</td>\n",
       "      <td>6.0</td>\n",
       "      <td>2011.0</td>\n",
       "      <td>2011-06</td>\n",
       "      <td>MERCEDES-BENZ</td>\n",
       "      <td>138955</td>\n",
       "      <td>306</td>\n",
       "      <td>18500</td>\n",
       "    </tr>\n",
       "    <tr>\n",
       "      <th>3</th>\n",
       "      <td>7512728</td>\n",
       "      <td>MERCEDES-BENZ A 45 AMG 4Matic Speedshift 7G-DC...</td>\n",
       "      <td>Benzin</td>\n",
       "      <td>Automatisiertes Schaltgetriebe</td>\n",
       "      <td>4314</td>\n",
       "      <td>Zeiningen</td>\n",
       "      <td>Am Stutz 21</td>\n",
       "      <td>8.2015</td>\n",
       "      <td>8.0</td>\n",
       "      <td>2015.0</td>\n",
       "      <td>2015-08</td>\n",
       "      <td>MERCEDES-BENZ</td>\n",
       "      <td>43000</td>\n",
       "      <td>360</td>\n",
       "      <td>36000</td>\n",
       "    </tr>\n",
       "    <tr>\n",
       "      <th>4</th>\n",
       "      <td>7490242</td>\n",
       "      <td>AUDI A5 Sportback 2.0 TFSI Sport quattro S-tro...</td>\n",
       "      <td>Benzin</td>\n",
       "      <td>Automatisiertes Schaltgetriebe</td>\n",
       "      <td>3250</td>\n",
       "      <td>Lyss</td>\n",
       "      <td>3250 Lyss</td>\n",
       "      <td>9.2018</td>\n",
       "      <td>9.0</td>\n",
       "      <td>2018.0</td>\n",
       "      <td>2018-09</td>\n",
       "      <td>AUDI</td>\n",
       "      <td>43300</td>\n",
       "      <td>252</td>\n",
       "      <td>48500</td>\n",
       "    </tr>\n",
       "  </tbody>\n",
       "</table>\n",
       "</div>"
      ],
      "text/plain": [
       "   Offer_Id                                               Type Fuel_Type  \\\n",
       "0   7324420  AUDI A5 Sportback 3.0 TDI quattro S-tronic (Li...    Diesel   \n",
       "1   7512768        MERCEDES-BENZ SLK 200 7G-Tronic (Cabriolet)    Benzin   \n",
       "2   7512034  MERCEDES-BENZ C 350 Avantgarde 4Matic 7G-Troni...    Benzin   \n",
       "3   7512728  MERCEDES-BENZ A 45 AMG 4Matic Speedshift 7G-DC...    Benzin   \n",
       "4   7490242  AUDI A5 Sportback 2.0 TFSI Sport quattro S-tro...    Benzin   \n",
       "\n",
       "                     Transmission  Dealer_PLZ Dealer_City  \\\n",
       "0  Automatisiertes Schaltgetriebe        8488  Turbenthal   \n",
       "1             Automat sequentiell        3186    Düdingen   \n",
       "2             Automat sequentiell        1262      Eysins   \n",
       "3  Automatisiertes Schaltgetriebe        4314   Zeiningen   \n",
       "4  Automatisiertes Schaltgetriebe        3250        Lyss   \n",
       "\n",
       "  Dealer_Street_House_Nr  Init_Regist_MY  Init_Regist_Month  Init_Regist_Year  \\\n",
       "0       Mettlenstrasse 3         10.2014               10.0            2014.0   \n",
       "1      Brugerastrasse 60          6.2013                6.0            2013.0   \n",
       "2            1262 Eysins          6.2011                6.0            2011.0   \n",
       "3            Am Stutz 21          8.2015                8.0            2015.0   \n",
       "4              3250 Lyss          9.2018                9.0            2018.0   \n",
       "\n",
       "  Init_Regist_Dt           Make  Mileage   HP  Price  \n",
       "0        2014-10           AUDI    75000  245  22500  \n",
       "1        2013-06  MERCEDES-BENZ    46655  184  23749  \n",
       "2        2011-06  MERCEDES-BENZ   138955  306  18500  \n",
       "3        2015-08  MERCEDES-BENZ    43000  360  36000  \n",
       "4        2018-09           AUDI    43300  252  48500  "
      ]
     },
     "execution_count": 3,
     "metadata": {},
     "output_type": "execute_result"
    }
   ],
   "source": [
    "# Define columns for import\n",
    "columns = [ 'Offer_Id',\n",
    "            'Type',\n",
    "            'Fuel_Type',\n",
    "            'Transmission',\n",
    "            'Dealer_PLZ',\n",
    "            'Dealer_City',\n",
    "            'Dealer_Street_House_Nr',\n",
    "            'Init_Regist_MY',\n",
    "            'Init_Regist_Month',\n",
    "            'Init_Regist_Year',\n",
    "            'Init_Regist_Dt',\n",
    "            'Make',\n",
    "            'Mileage',\n",
    "            'HP',\n",
    "            'Price']\n",
    "\n",
    "# Read and select variables\n",
    "df_orig = pd.read_csv(\"/workspaces/python_machine_learning_basics/CART_RandomForest/Data/autoscout24_data_enriched_cleaned.csv\", \n",
    "                      sep=\",\", \n",
    "                      encoding='utf-8')[columns]\n",
    "\n",
    "# Rename variable 'web-scraper-order' to 'apmt_id'\n",
    "df_orig = df_orig.rename(columns={'web-scraper-order': 'id'})\n",
    "\n",
    "# Remove missing values\n",
    "df = df_orig.dropna()\n",
    "df.head(5)\n",
    "\n",
    "# Remove duplicates\n",
    "df = df.drop_duplicates()\n",
    "\n",
    "# Remove some 'extreme' values\n",
    "df = df.loc[(df['Price'] >= 500) &     # quick and dirty Lösung: mit Scatterplot gechecked. Sauber gemacht, sollte es auf den Residual sichtbar sein.\n",
    "            (df['Price'] <= 150000)]\n",
    "\n",
    "print(df.shape)\n",
    "df.head(5)"
   ]
  },
  {
   "cell_type": "code",
   "execution_count": 4,
   "metadata": {},
   "outputs": [
    {
     "name": "stdout",
     "output_type": "stream",
     "text": [
      "X_train:\n",
      "3785    239000\n",
      "1410     77000\n",
      "2788    134000\n",
      "3356    165000\n",
      "1119     79000\n",
      "Name: Mileage, dtype: int64 \n",
      "\n",
      "y_train:\n",
      "3785     6900\n",
      "1410    19956\n",
      "2788    12300\n",
      "3356    19900\n",
      "1119    14800\n",
      "Name: Price, dtype: int64\n"
     ]
    }
   ],
   "source": [
    "# Create train and test samples\n",
    "X_train, X_test, y_train, y_test = train_test_split(df['Mileage'],     # Wert mit Erklärung\n",
    "                                                    df['Price'],    # Zielvariabel\n",
    "                                                    test_size=0.20, \n",
    "                                                    random_state=42)\n",
    "# Show X_train\n",
    "print('X_train:')\n",
    "print(X_train.head(), '\\n')\n",
    "\n",
    "# Show y_train\n",
    "print('y_train:')\n",
    "print(y_train.head())"
   ]
  },
  {
   "cell_type": "code",
   "execution_count": 5,
   "metadata": {},
   "outputs": [
    {
     "name": "stdout",
     "output_type": "stream",
     "text": [
      "Linear regression result:\n",
      "Intercept with y-axis (alpha):            42462.72\n",
      "Slope of regression line (beta):          -0.172\n",
      "p-value:                                  0.0000\n",
      "R-squared (coefficient of determination): 0.2221\n"
     ]
    }
   ],
   "source": [
    "# Fit the regression model\n",
    "slope, intercept, r, p, std_err = stats.linregress(X_train, y_train)\n",
    "\n",
    "# Print results of the regression model\n",
    "print('Linear regression result:')\n",
    "print(f'Intercept with y-axis (alpha):            {intercept:.2f}')\n",
    "print(f'Slope of regression line (beta):          {slope:.3f}')\n",
    "print(f'p-value:                                  {p:.4f}')\n",
    "print(f'R-squared (coefficient of determination): {r**2:.4f}')"
   ]
  },
  {
   "cell_type": "code",
   "execution_count": 6,
   "metadata": {},
   "outputs": [
    {
     "data": {
      "image/png": "[encoded data removed]",
      "text/plain": [
       "<Figure size 600x400 with 1 Axes>"
      ]
     },
     "metadata": {},
     "output_type": "display_data"
    }
   ],
   "source": [
    "# Function to calculate model predictions\n",
    "def myfunc(x):\n",
    "    return slope * x + intercept\n",
    "\n",
    "# Apply myfunc() to x, i.e. make predictions \n",
    "mymodel = pd.Series(map(myfunc, X_train))\n",
    "\n",
    "# Scatterplot with regression line\n",
    "plt.figure(figsize=(6,4))\n",
    "plt.scatter(X_train, y_train, s=10, color='green')\n",
    "plt.plot(X_train, mymodel, color='darkred', linestyle='dashed')\n",
    "plt.title('Simple Linear Regression')\n",
    "plt.xlabel('Mileage')\n",
    "plt.ylabel('price (CHF)')\n",
    "\n",
    "plt.show()"
   ]
  },
  {
   "cell_type": "code",
   "execution_count": 7,
   "metadata": {},
   "outputs": [
    {
     "name": "stdout",
     "output_type": "stream",
     "text": [
      "1st Predicted price in dataset: 1417.56\n",
      "1st Observed price in dataset: 22500.00\n",
      "1st Residual price in dataset: 21082.44\n"
     ]
    }
   ],
   "source": [
    "# Calculate model residuals for train data\n",
    "residuals = y_train - mymodel\n",
    "\n",
    "# Check the first residual value in our data set\n",
    "print(f'1st Predicted price in dataset: {mymodel[0]:.2f}')\n",
    "print(f'1st Observed price in dataset: {y_train[0]:.2f}')\n",
    "print(f'1st Residual price in dataset: {residuals[0]:.2f}')"
   ]
  },
  {
   "cell_type": "code",
   "execution_count": 8,
   "metadata": {},
   "outputs": [
    {
     "data": {
      "image/png": "[encoded data removed]",
      "text/plain": [
       "<Figure size 700x400 with 1 Axes>"
      ]
     },
     "metadata": {},
     "output_type": "display_data"
    }
   ],
   "source": [
    "# Plot histogram of residuals\n",
    "fig = plt.figure( figsize=(7,4))\n",
    "n, bins, patches = plt.hist(x=residuals, \n",
    "                            bins=25, \n",
    "                            color='blue',\n",
    "                            alpha=0.5\n",
    "                   )\n",
    "\n",
    "# Set title and labels\n",
    "plt.xlabel('residuals', fontsize=10, labelpad=10)\n",
    "plt.ylabel('frequency', fontsize=10, labelpad=10)\n",
    "plt.title('Histogram of model residuals', fontsize=12, pad=10)\n",
    "plt.grid()\n",
    "\n",
    "# Show plot\n",
    "plt.show()"
   ]
  },
  {
   "cell_type": "code",
   "execution_count": 9,
   "metadata": {},
   "outputs": [
    {
     "name": "stdout",
     "output_type": "stream",
     "text": [
      "Observed price: 3000.0, Predicted price: -4335.6\n",
      "Observed price: 15500.0, Predicted price: 22300.8\n",
      "Observed price: 29999.0, Predicted price: 17303.2\n",
      "Observed price: 25500.0, Predicted price: 29754.2\n",
      "Observed price: 23900.0, Predicted price: 32673.7\n",
      "Observed price: 18000.0, Predicted price: 20652.1\n",
      "Observed price: 2900.0, Predicted price: 31643.3\n",
      "Observed price: 42900.0, Predicted price: 27604.0\n",
      "Observed price: 25000.0, Predicted price: 36795.4\n",
      "Observed price: 9900.0, Predicted price: 7256.6\n"
     ]
    }
   ],
   "source": [
    "# Create model predictions for test data\n",
    "predicted = myfunc(X_test)\n",
    "predicted.round(1)\n",
    "\n",
    "# Compare the observed prices with the predicted prices\n",
    "for i in range(0,10):\n",
    "    print(f'Observed price: {y_test.iloc[i]:.1f}, Predicted price: {predicted.iloc[i]:.1f}')"
   ]
  },
  {
   "cell_type": "code",
   "execution_count": 10,
   "metadata": {},
   "outputs": [
    {
     "name": "stdout",
     "output_type": "stream",
     "text": [
      "X2_train:\n",
      "      Mileage   HP  Init_Regist_Year\n",
      "3785   239000  344            2007.0\n",
      "1410    77000  265            2013.0\n",
      "2788   134000  184            2011.0\n",
      "3356   165000  270            2011.0\n",
      "1119    79000  175            2013.0 \n",
      "\n",
      "y2_train:\n",
      "3785     6900\n",
      "1410    19956\n",
      "2788    12300\n",
      "3356    19900\n",
      "1119    14800\n",
      "Name: Price, dtype: int64\n"
     ]
    }
   ],
   "source": [
    "# Log transformed variable\n",
    "df['price_log'] = np.log(df['Price'])\n",
    "\n",
    "# Create train and test samples (we name it X2_ and y_2 because we already used X_ and y_ above)\n",
    "X2_train, X2_test, y2_train, y2_test = train_test_split(df[['Mileage',\n",
    "                                                            'HP',\n",
    "                                                            'Init_Regist_Year']], \n",
    "                                                        df['Price'], \n",
    "                                                        # df['price_log'],\n",
    "                                                        test_size=0.20, \n",
    "                                                        random_state=42)\n",
    "\n",
    "# Show X2_train\n",
    "print('X2_train:')\n",
    "print(X2_train.head(), '\\n')\n",
    "\n",
    "# Show y2_train\n",
    "print('y2_train:')\n",
    "print(y2_train.head())"
   ]
  },
  {
   "cell_type": "code",
   "execution_count": 11,
   "metadata": {},
   "outputs": [
    {
     "name": "stdout",
     "output_type": "stream",
     "text": [
      "                            OLS Regression Results                            \n",
      "==============================================================================\n",
      "Dep. Variable:                  Price   R-squared:                       0.595\n",
      "Model:                            OLS   Adj. R-squared:                  0.595\n",
      "Method:                 Least Squares   F-statistic:                     1545.\n",
      "Date:                Tue, 05 Nov 2024   Prob (F-statistic):               0.00\n",
      "Time:                        17:08:50   Log-Likelihood:                -34667.\n",
      "No. Observations:                3159   AIC:                         6.934e+04\n",
      "Df Residuals:                    3155   BIC:                         6.937e+04\n",
      "Df Model:                           3                                         \n",
      "Covariance Type:            nonrobust                                         \n",
      "====================================================================================\n",
      "                       coef    std err          t      P>|t|      [0.025      0.975]\n",
      "------------------------------------------------------------------------------------\n",
      "const             6.315e+05   5.73e+04     11.020      0.000    5.19e+05    7.44e+05\n",
      "Mileage             -0.1616      0.004    -36.734      0.000      -0.170      -0.153\n",
      "HP                 116.9731      2.174     53.804      0.000     112.710     121.236\n",
      "Init_Regist_Year  -307.1173     28.477    -10.785      0.000    -362.953    -251.281\n",
      "==============================================================================\n",
      "Omnibus:                     1130.614   Durbin-Watson:                   2.041\n",
      "Prob(Omnibus):                  0.000   Jarque-Bera (JB):             6117.579\n",
      "Skew:                           1.612   Prob(JB):                         0.00\n",
      "Kurtosis:                       9.007   Cond. No.                     2.55e+07\n",
      "==============================================================================\n",
      "\n",
      "Notes:\n",
      "[1] Standard Errors assume that the covariance matrix of the errors is correctly specified.\n",
      "[2] The condition number is large, 2.55e+07. This might indicate that there are\n",
      "strong multicollinearity or other numerical problems.\n"
     ]
    }
   ],
   "source": [
    "# Add constant to the model\n",
    "X2_train_const = sm.add_constant(X2_train)\n",
    "\n",
    "# Create a Gradient Boosting Classifier     testen mit dieser Variante\n",
    "gbc = GradientBoostingClassifier(n_estimators=100, learning_rate=0.1, max_depth=3, random_state=42)\n",
    "\n",
    "\n",
    "# Create the multiple regression model\n",
    "olsmod = sm.OLS(y_train, X2_train_const)\n",
    "olsres = olsmod.fit()\n",
    "\n",
    "# Print full model output\n",
    "print(olsres.summary())"
   ]
  },
  {
   "cell_type": "code",
   "execution_count": 12,
   "metadata": {},
   "outputs": [
    {
     "data": {
      "image/png": "[encoded data removed]",
      "text/plain": [
       "<Figure size 800x400 with 1 Axes>"
      ]
     },
     "metadata": {},
     "output_type": "display_data"
    }
   ],
   "source": [
    "# Plot histogram of residuals\n",
    "fig = plt.figure( figsize=(8,4))\n",
    "n, bins, patches = plt.hist(x=olsres.resid, \n",
    "                            bins=25, \n",
    "                            color='blue',\n",
    "                            alpha=0.5\n",
    "                   )\n",
    "\n",
    "# Set labels\n",
    "plt.xlabel('residuals', fontsize=10, labelpad=10)\n",
    "plt.ylabel('frequency', fontsize=10, labelpad=10)\n",
    "plt.title('Histogram of model residuals', fontsize=12, pad=10)\n",
    "plt.grid()\n",
    "\n",
    "plt.show()"
   ]
  },
  {
   "cell_type": "code",
   "execution_count": 13,
   "metadata": {},
   "outputs": [
    {
     "name": "stdout",
     "output_type": "stream",
     "text": [
      "Observed price: 3000.0, Predicted price: 4915.7\n",
      "Observed price: 15500.0, Predicted price: 23320.4\n",
      "Observed price: 29999.0, Predicted price: 49368.5\n",
      "Observed price: 25500.0, Predicted price: 36268.5\n",
      "Observed price: 23900.0, Predicted price: 40521.3\n",
      "Observed price: 18000.0, Predicted price: 29211.9\n",
      "Observed price: 2900.0, Predicted price: 20296.1\n",
      "Observed price: 42900.0, Predicted price: 32272.6\n",
      "Observed price: 25000.0, Predicted price: 22670.6\n",
      "Observed price: 9900.0, Predicted price: 3816.2\n"
     ]
    }
   ],
   "source": [
    "# Add constant to X2_test\n",
    "X2_test_const = sm.add_constant(X2_test)\n",
    "predicted_new = olsres.predict(X2_test_const)\n",
    "\n",
    "# Compare the observed prices with the predicted prices\n",
    "for i in range(0,10):\n",
    "    print(f'Observed price: {y_test.iloc[i]:.1f}, Predicted price: {predicted_new.iloc[i]:.1f}')"
   ]
  }
 ],
 "metadata": {
  "kernelspec": {
   "display_name": "Python 3",
   "language": "python",
   "name": "python3"
  },
  "language_info": {
   "codemirror_mode": {
    "name": "ipython",
    "version": 3
   },
   "file_extension": ".py",
   "mimetype": "text/x-python",
   "name": "python",
   "nbconvert_exporter": "python",
   "pygments_lexer": "ipython3",
   "version": "3.11.10"
  }
 },
 "nbformat": 4,
 "nbformat_minor": 2
}
